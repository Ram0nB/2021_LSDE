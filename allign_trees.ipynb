{
 "cells": [
  {
   "cell_type": "code",
   "execution_count": null,
   "source": [
    "from rijksdriehoek import rijksdriehoek rd = rijksdriehoek.Rijksdriehoek() \n",
    "print(“Original coordinates in WGS’84: {},{}”.format(str(52.3761973), str(4.8936216))) \n",
    "rd.from_wgs(52.3761973, 4.8936216) print(“Rijksdriehoek: {},{}”.format(str(rd.rd_x), str(rd.rd_y))) \n",
    "lat, lon = rd.to_wgs() print(“WGS’84 coordinates converted from RD: {},{}”.format(str(lat), str(lon)))"
   ],
   "outputs": [],
   "metadata": {}
  },
  {
   "cell_type": "code",
   "execution_count": 34,
   "source": [
    "import glob\n",
    "import re\n",
    "# Read csv file  \n",
    "all_files = glob.glob(\"BOMEN*.csv\")\n",
    "print(all_files)"
   ],
   "outputs": [
    {
     "output_type": "stream",
     "name": "stdout",
     "text": [
      "['BOMEN1.csv', 'BOMEN2.csv', 'BOMEN3.csv', 'BOMEN4.csv']\n"
     ]
    }
   ],
   "metadata": {}
  },
  {
   "cell_type": "code",
   "execution_count": 2,
   "source": [
    "import pandas as pd \n",
    "\n",
    "li = []\n",
    "\n",
    "for filename in all_files:\n",
    "    df = pd.read_csv(filename, index_col=None, header=0, delimiter = ';')\n",
    "    li.append(df)\n",
    "\n",
    "table = pd.concat(li, axis=0, ignore_index=True)"
   ],
   "outputs": [],
   "metadata": {}
  },
  {
   "cell_type": "code",
   "execution_count": 3,
   "source": [
    "table.shape[0]"
   ],
   "outputs": [
    {
     "output_type": "execute_result",
     "data": {
      "text/plain": [
       "259431"
      ]
     },
     "metadata": {},
     "execution_count": 3
    }
   ],
   "metadata": {}
  },
  {
   "cell_type": "code",
   "execution_count": 4,
   "source": [
    "table"
   ],
   "outputs": [
    {
     "output_type": "execute_result",
     "data": {
      "text/html": [
       "<div>\n",
       "<style scoped>\n",
       "    .dataframe tbody tr th:only-of-type {\n",
       "        vertical-align: middle;\n",
       "    }\n",
       "\n",
       "    .dataframe tbody tr th {\n",
       "        vertical-align: top;\n",
       "    }\n",
       "\n",
       "    .dataframe thead th {\n",
       "        text-align: right;\n",
       "    }\n",
       "</style>\n",
       "<table border=\"1\" class=\"dataframe\">\n",
       "  <thead>\n",
       "    <tr style=\"text-align: right;\">\n",
       "      <th></th>\n",
       "      <th>OBJECTNUMMER</th>\n",
       "      <th>Soortnaam_NL</th>\n",
       "      <th>Boomnummer</th>\n",
       "      <th>Soortnaam_WTS</th>\n",
       "      <th>Boomtype</th>\n",
       "      <th>Boomhoogte</th>\n",
       "      <th>Plantjaar</th>\n",
       "      <th>Eigenaar</th>\n",
       "      <th>Beheerder</th>\n",
       "      <th>Categorie</th>\n",
       "      <th>SOORT_KORT</th>\n",
       "      <th>SDVIEW</th>\n",
       "      <th>RADIUS</th>\n",
       "      <th>WKT_LNG_LAT</th>\n",
       "      <th>WKT_LAT_LNG</th>\n",
       "      <th>LNG</th>\n",
       "      <th>LAT</th>\n",
       "      <th>Unnamed: 17</th>\n",
       "    </tr>\n",
       "  </thead>\n",
       "  <tbody>\n",
       "    <tr>\n",
       "      <th>0</th>\n",
       "      <td>1</td>\n",
       "      <td>Amerikaanse linde</td>\n",
       "      <td>589672</td>\n",
       "      <td>Tilia americana</td>\n",
       "      <td>Boom niet vrij uitgroeiend</td>\n",
       "      <td>12 tot 18 m.</td>\n",
       "      <td>1948</td>\n",
       "      <td>Gemeente Amsterdam</td>\n",
       "      <td>Stadsdeel Zuid</td>\n",
       "      <td>Tilia</td>\n",
       "      <td>Tilia</td>\n",
       "      <td>K</td>\n",
       "      <td>5</td>\n",
       "      <td>POINT(4.90467 52.339815)</td>\n",
       "      <td>POINT(52.339815 4.90467)</td>\n",
       "      <td>4.904670</td>\n",
       "      <td>52.339815</td>\n",
       "      <td>NaN</td>\n",
       "    </tr>\n",
       "    <tr>\n",
       "      <th>1</th>\n",
       "      <td>2</td>\n",
       "      <td>Huntingdon-iep</td>\n",
       "      <td>589671</td>\n",
       "      <td>Ulmus hollandica `Vegeta`</td>\n",
       "      <td>Boom niet vrij uitgroeiend</td>\n",
       "      <td>6 tot 12 m.</td>\n",
       "      <td>1978</td>\n",
       "      <td>Gemeente Amsterdam</td>\n",
       "      <td>Stadsdeel Zuid</td>\n",
       "      <td>Ulmus</td>\n",
       "      <td>Ulmus</td>\n",
       "      <td>K</td>\n",
       "      <td>3</td>\n",
       "      <td>POINT(4.902692 52.340094)</td>\n",
       "      <td>POINT(52.340094 4.902692)</td>\n",
       "      <td>4.902692</td>\n",
       "      <td>52.340094</td>\n",
       "      <td>NaN</td>\n",
       "    </tr>\n",
       "    <tr>\n",
       "      <th>2</th>\n",
       "      <td>3</td>\n",
       "      <td>Gewone es (cultuurvariëteit)</td>\n",
       "      <td>589670</td>\n",
       "      <td>Fraxinus excelsior `Westhof`s Glorie`</td>\n",
       "      <td>Boom niet vrij uitgroeiend</td>\n",
       "      <td>9 tot 12 m.</td>\n",
       "      <td>1990</td>\n",
       "      <td>Gemeente Amsterdam</td>\n",
       "      <td>Stadsdeel Zuid</td>\n",
       "      <td>Fraxinus</td>\n",
       "      <td>Fraxinus</td>\n",
       "      <td>K</td>\n",
       "      <td>3</td>\n",
       "      <td>POINT(4.855208 52.331986)</td>\n",
       "      <td>POINT(52.331986 4.855208)</td>\n",
       "      <td>4.855208</td>\n",
       "      <td>52.331986</td>\n",
       "      <td>NaN</td>\n",
       "    </tr>\n",
       "    <tr>\n",
       "      <th>3</th>\n",
       "      <td>4</td>\n",
       "      <td>Gele bergiep (cultuurvariëteit)</td>\n",
       "      <td>589669</td>\n",
       "      <td>Ulmus glabra `Lutescens`</td>\n",
       "      <td>Boom niet vrij uitgroeiend</td>\n",
       "      <td>6 tot 12 m.</td>\n",
       "      <td>2002</td>\n",
       "      <td>Gemeente Amsterdam</td>\n",
       "      <td>Stadsdeel Zuid</td>\n",
       "      <td>Ulmus</td>\n",
       "      <td>Ulmus</td>\n",
       "      <td>K</td>\n",
       "      <td>3</td>\n",
       "      <td>POINT(4.90367 52.348838)</td>\n",
       "      <td>POINT(52.348838 4.90367)</td>\n",
       "      <td>4.903670</td>\n",
       "      <td>52.348838</td>\n",
       "      <td>NaN</td>\n",
       "    </tr>\n",
       "    <tr>\n",
       "      <th>4</th>\n",
       "      <td>5</td>\n",
       "      <td>Zomereik</td>\n",
       "      <td>589668</td>\n",
       "      <td>Quercus robur</td>\n",
       "      <td>Boom niet vrij uitgroeiend</td>\n",
       "      <td>6 tot 9 m.</td>\n",
       "      <td>1985</td>\n",
       "      <td>Gemeente Amsterdam</td>\n",
       "      <td>Stadsdeel Zuid</td>\n",
       "      <td>Quercus</td>\n",
       "      <td>Quercus</td>\n",
       "      <td>K</td>\n",
       "      <td>2</td>\n",
       "      <td>POINT(4.875886 52.341057)</td>\n",
       "      <td>POINT(52.341057 4.875886)</td>\n",
       "      <td>4.875886</td>\n",
       "      <td>52.341057</td>\n",
       "      <td>NaN</td>\n",
       "    </tr>\n",
       "    <tr>\n",
       "      <th>...</th>\n",
       "      <td>...</td>\n",
       "      <td>...</td>\n",
       "      <td>...</td>\n",
       "      <td>...</td>\n",
       "      <td>...</td>\n",
       "      <td>...</td>\n",
       "      <td>...</td>\n",
       "      <td>...</td>\n",
       "      <td>...</td>\n",
       "      <td>...</td>\n",
       "      <td>...</td>\n",
       "      <td>...</td>\n",
       "      <td>...</td>\n",
       "      <td>...</td>\n",
       "      <td>...</td>\n",
       "      <td>...</td>\n",
       "      <td>...</td>\n",
       "      <td>...</td>\n",
       "    </tr>\n",
       "    <tr>\n",
       "      <th>259426</th>\n",
       "      <td>259427</td>\n",
       "      <td>Gewone esdoorn</td>\n",
       "      <td>0</td>\n",
       "      <td>Acer pseudoplatanus</td>\n",
       "      <td>Boom niet vrij uitgroeiend</td>\n",
       "      <td>18 tot 24 m.</td>\n",
       "      <td>0</td>\n",
       "      <td>Gemeente Amsterdam</td>\n",
       "      <td>Stadsdeel Zuidoost</td>\n",
       "      <td>Acer</td>\n",
       "      <td>Acer</td>\n",
       "      <td>T</td>\n",
       "      <td>7</td>\n",
       "      <td>POINT(4.968736 52.298498)</td>\n",
       "      <td>POINT(52.298498 4.968736)</td>\n",
       "      <td>4.968736</td>\n",
       "      <td>52.298498</td>\n",
       "      <td>NaN</td>\n",
       "    </tr>\n",
       "    <tr>\n",
       "      <th>259427</th>\n",
       "      <td>259428</td>\n",
       "      <td>Veldesdoorn</td>\n",
       "      <td>0</td>\n",
       "      <td>Acer campestre</td>\n",
       "      <td>Boom vrij uitgroeiend</td>\n",
       "      <td>9 tot 12 m.</td>\n",
       "      <td>0</td>\n",
       "      <td>Gemeente Amsterdam</td>\n",
       "      <td>Stadsdeel Zuidoost</td>\n",
       "      <td>Acer</td>\n",
       "      <td>Acer</td>\n",
       "      <td>T</td>\n",
       "      <td>3</td>\n",
       "      <td>POINT(4.968974 52.298392)</td>\n",
       "      <td>POINT(52.298392 4.968974)</td>\n",
       "      <td>4.968974</td>\n",
       "      <td>52.298392</td>\n",
       "      <td>NaN</td>\n",
       "    </tr>\n",
       "    <tr>\n",
       "      <th>259428</th>\n",
       "      <td>259429</td>\n",
       "      <td>Gewone esdoorn</td>\n",
       "      <td>0</td>\n",
       "      <td>Acer pseudoplatanus</td>\n",
       "      <td>Boom niet vrij uitgroeiend</td>\n",
       "      <td>18 tot 24 m.</td>\n",
       "      <td>0</td>\n",
       "      <td>Gemeente Amsterdam</td>\n",
       "      <td>Stadsdeel Zuidoost</td>\n",
       "      <td>Acer</td>\n",
       "      <td>Acer</td>\n",
       "      <td>T</td>\n",
       "      <td>7</td>\n",
       "      <td>POINT(4.969281 52.298189)</td>\n",
       "      <td>POINT(52.298189 4.969281)</td>\n",
       "      <td>4.969281</td>\n",
       "      <td>52.298189</td>\n",
       "      <td>NaN</td>\n",
       "    </tr>\n",
       "    <tr>\n",
       "      <th>259429</th>\n",
       "      <td>259430</td>\n",
       "      <td>Gewone haagbeuk</td>\n",
       "      <td>0</td>\n",
       "      <td>Carpinus betulus</td>\n",
       "      <td>Boom niet vrij uitgroeiend</td>\n",
       "      <td>9 tot 12 m.</td>\n",
       "      <td>0</td>\n",
       "      <td>Gemeente Amsterdam</td>\n",
       "      <td>Stadsdeel Zuidoost</td>\n",
       "      <td>Carpinus</td>\n",
       "      <td>Carpinus</td>\n",
       "      <td>T</td>\n",
       "      <td>3</td>\n",
       "      <td>POINT(4.967459 52.300042)</td>\n",
       "      <td>POINT(52.300042 4.967459)</td>\n",
       "      <td>4.967459</td>\n",
       "      <td>52.300042</td>\n",
       "      <td>NaN</td>\n",
       "    </tr>\n",
       "    <tr>\n",
       "      <th>259430</th>\n",
       "      <td>259431</td>\n",
       "      <td>Veldesdoorn</td>\n",
       "      <td>0</td>\n",
       "      <td>Acer campestre</td>\n",
       "      <td>Boom niet vrij uitgroeiend</td>\n",
       "      <td>12 tot 15 m.</td>\n",
       "      <td>0</td>\n",
       "      <td>Gemeente Amsterdam</td>\n",
       "      <td>Stadsdeel Zuidoost</td>\n",
       "      <td>Acer</td>\n",
       "      <td>Acer</td>\n",
       "      <td>T</td>\n",
       "      <td>4</td>\n",
       "      <td>POINT(4.967483 52.300068)</td>\n",
       "      <td>POINT(52.300068 4.967483)</td>\n",
       "      <td>4.967483</td>\n",
       "      <td>52.300068</td>\n",
       "      <td>NaN</td>\n",
       "    </tr>\n",
       "  </tbody>\n",
       "</table>\n",
       "<p>259431 rows × 18 columns</p>\n",
       "</div>"
      ],
      "text/plain": [
       "        OBJECTNUMMER                     Soortnaam_NL  Boomnummer  \\\n",
       "0                  1                Amerikaanse linde      589672   \n",
       "1                  2                   Huntingdon-iep      589671   \n",
       "2                  3     Gewone es (cultuurvariëteit)      589670   \n",
       "3                  4  Gele bergiep (cultuurvariëteit)      589669   \n",
       "4                  5                         Zomereik      589668   \n",
       "...              ...                              ...         ...   \n",
       "259426        259427                   Gewone esdoorn           0   \n",
       "259427        259428                      Veldesdoorn           0   \n",
       "259428        259429                   Gewone esdoorn           0   \n",
       "259429        259430                  Gewone haagbeuk           0   \n",
       "259430        259431                      Veldesdoorn           0   \n",
       "\n",
       "                                Soortnaam_WTS                    Boomtype  \\\n",
       "0                             Tilia americana  Boom niet vrij uitgroeiend   \n",
       "1                   Ulmus hollandica `Vegeta`  Boom niet vrij uitgroeiend   \n",
       "2       Fraxinus excelsior `Westhof`s Glorie`  Boom niet vrij uitgroeiend   \n",
       "3                    Ulmus glabra `Lutescens`  Boom niet vrij uitgroeiend   \n",
       "4                               Quercus robur  Boom niet vrij uitgroeiend   \n",
       "...                                       ...                         ...   \n",
       "259426                    Acer pseudoplatanus  Boom niet vrij uitgroeiend   \n",
       "259427                         Acer campestre       Boom vrij uitgroeiend   \n",
       "259428                    Acer pseudoplatanus  Boom niet vrij uitgroeiend   \n",
       "259429                       Carpinus betulus  Boom niet vrij uitgroeiend   \n",
       "259430                         Acer campestre  Boom niet vrij uitgroeiend   \n",
       "\n",
       "          Boomhoogte  Plantjaar            Eigenaar           Beheerder  \\\n",
       "0       12 tot 18 m.       1948  Gemeente Amsterdam      Stadsdeel Zuid   \n",
       "1        6 tot 12 m.       1978  Gemeente Amsterdam      Stadsdeel Zuid   \n",
       "2        9 tot 12 m.       1990  Gemeente Amsterdam      Stadsdeel Zuid   \n",
       "3        6 tot 12 m.       2002  Gemeente Amsterdam      Stadsdeel Zuid   \n",
       "4         6 tot 9 m.       1985  Gemeente Amsterdam      Stadsdeel Zuid   \n",
       "...              ...        ...                 ...                 ...   \n",
       "259426  18 tot 24 m.          0  Gemeente Amsterdam  Stadsdeel Zuidoost   \n",
       "259427   9 tot 12 m.          0  Gemeente Amsterdam  Stadsdeel Zuidoost   \n",
       "259428  18 tot 24 m.          0  Gemeente Amsterdam  Stadsdeel Zuidoost   \n",
       "259429   9 tot 12 m.          0  Gemeente Amsterdam  Stadsdeel Zuidoost   \n",
       "259430  12 tot 15 m.          0  Gemeente Amsterdam  Stadsdeel Zuidoost   \n",
       "\n",
       "       Categorie SOORT_KORT SDVIEW  RADIUS                WKT_LNG_LAT  \\\n",
       "0          Tilia      Tilia      K       5   POINT(4.90467 52.339815)   \n",
       "1          Ulmus      Ulmus      K       3  POINT(4.902692 52.340094)   \n",
       "2       Fraxinus   Fraxinus      K       3  POINT(4.855208 52.331986)   \n",
       "3          Ulmus      Ulmus      K       3   POINT(4.90367 52.348838)   \n",
       "4        Quercus    Quercus      K       2  POINT(4.875886 52.341057)   \n",
       "...          ...        ...    ...     ...                        ...   \n",
       "259426      Acer       Acer      T       7  POINT(4.968736 52.298498)   \n",
       "259427      Acer       Acer      T       3  POINT(4.968974 52.298392)   \n",
       "259428      Acer       Acer      T       7  POINT(4.969281 52.298189)   \n",
       "259429  Carpinus   Carpinus      T       3  POINT(4.967459 52.300042)   \n",
       "259430      Acer       Acer      T       4  POINT(4.967483 52.300068)   \n",
       "\n",
       "                      WKT_LAT_LNG       LNG        LAT  Unnamed: 17  \n",
       "0        POINT(52.339815 4.90467)  4.904670  52.339815          NaN  \n",
       "1       POINT(52.340094 4.902692)  4.902692  52.340094          NaN  \n",
       "2       POINT(52.331986 4.855208)  4.855208  52.331986          NaN  \n",
       "3        POINT(52.348838 4.90367)  4.903670  52.348838          NaN  \n",
       "4       POINT(52.341057 4.875886)  4.875886  52.341057          NaN  \n",
       "...                           ...       ...        ...          ...  \n",
       "259426  POINT(52.298498 4.968736)  4.968736  52.298498          NaN  \n",
       "259427  POINT(52.298392 4.968974)  4.968974  52.298392          NaN  \n",
       "259428  POINT(52.298189 4.969281)  4.969281  52.298189          NaN  \n",
       "259429  POINT(52.300042 4.967459)  4.967459  52.300042          NaN  \n",
       "259430  POINT(52.300068 4.967483)  4.967483  52.300068          NaN  \n",
       "\n",
       "[259431 rows x 18 columns]"
      ]
     },
     "metadata": {},
     "execution_count": 4
    }
   ],
   "metadata": {}
  },
  {
   "cell_type": "code",
   "execution_count": 5,
   "source": [
    "import laspy"
   ],
   "outputs": [],
   "metadata": {}
  },
  {
   "cell_type": "markdown",
   "source": [
    "# Need to convert LONG, LAT to X, Y, Z to map Tree data on AHN3"
   ],
   "metadata": {}
  },
  {
   "cell_type": "code",
   "execution_count": 6,
   "source": [
    "%pip install numba\n",
    "%pip install pyproj"
   ],
   "outputs": [
    {
     "output_type": "stream",
     "name": "stdout",
     "text": [
      "Requirement already satisfied: numba in /home/snoeprol/anaconda3/envs/gisse/lib/python3.9/site-packages (0.54.0)\n",
      "Requirement already satisfied: numpy<1.21,>=1.17 in /home/snoeprol/anaconda3/envs/gisse/lib/python3.9/site-packages (from numba) (1.19.5)\n",
      "Requirement already satisfied: llvmlite<0.38,>=0.37.0rc1 in /home/snoeprol/anaconda3/envs/gisse/lib/python3.9/site-packages (from numba) (0.37.0)\n",
      "Requirement already satisfied: setuptools in /home/snoeprol/anaconda3/envs/gisse/lib/python3.9/site-packages (from numba) (58.0.4)\n",
      "Note: you may need to restart the kernel to use updated packages.\n",
      "Requirement already satisfied: pyproj in /home/snoeprol/anaconda3/envs/gisse/lib/python3.9/site-packages (3.2.1)\n",
      "Requirement already satisfied: certifi in /home/snoeprol/anaconda3/envs/gisse/lib/python3.9/site-packages (from pyproj) (2021.5.30)\n",
      "Note: you may need to restart the kernel to use updated packages.\n"
     ]
    }
   ],
   "metadata": {}
  },
  {
   "cell_type": "code",
   "execution_count": 7,
   "source": [
    "import numba\n",
    "import numpy as np\n",
    "\n",
    "@numba.njit\n",
    "def convert_cart_to_long_lat(x, y, z):\n",
    "\n",
    "    a = 6378137.0 #in meters\n",
    "    b = 6356752.314245 #in meters\n",
    "\n",
    "    f = (a - b) / a\n",
    "\n",
    "    e_sq = f * (2 - f)                       \n",
    "    eps = e_sq / (1.0 - e_sq)\n",
    "\n",
    "    p = np.sqrt(x * x + y * y)\n",
    "    q = np.atan2((z * a), (p * b))\n",
    "\n",
    "    sin_q = np.sin(q)\n",
    "    cos_q = np.cos(q)\n",
    "\n",
    "    sin_q_3 = sin_q * sin_q * sin_q\n",
    "    cos_q_3 = cos_q * cos_q * cos_q\n",
    "\n",
    "    phi = np.atan2((z + eps * b * sin_q_3), (p - e_sq * a * cos_q_3))\n",
    "    lam = np.atan2(y, x)\n",
    "\n",
    "    v = a / np.sqrt(1.0 - e_sq * np.sin(phi) * np.sin(phi))\n",
    "    h   = (p / np.cos(phi)) - v\n",
    "\n",
    "    lat = np.degrees(phi)\n",
    "    lon = np.degrees(lam)\n",
    "\n",
    "    return lat,lon,h"
   ],
   "outputs": [],
   "metadata": {}
  },
  {
   "cell_type": "code",
   "execution_count": 8,
   "source": [
    "import pyproj\n",
    "\n",
    "x = 0#points.x[0]\n",
    "y = 0#points.y[0]\n",
    "\n",
    "print(x, y)\n",
    "\n",
    "p = pyproj.Proj(\"+proj=merc +lon_0=0 +k=1 +x_0=0 +y_0=0 +a=6378137 +b=6378137 +towgs84=0,0,0,0,0,0,0 +units=m +no_defs\")\n",
    "lon, lat = p(x, y, inverse=True)\n",
    "print(lat, lon)"
   ],
   "outputs": [
    {
     "output_type": "stream",
     "name": "stdout",
     "text": [
      "0 0\n",
      "0.0 0.0\n"
     ]
    }
   ],
   "metadata": {}
  },
  {
   "cell_type": "code",
   "execution_count": 9,
   "source": [
    "import matplotlib.pyplot as plt\n",
    "from pyproj import Proj\n",
    "p = Proj(proj='utm',zone=10,ellps='WGS84', preserve_units=False)\n",
    "\n",
    "for i in table.iterrows():\n",
    "    print(i[1])\n",
    "    plt.scatter(x, y)\n",
    "    break\n",
    "\n",
    "plt.show()\n",
    "    "
   ],
   "outputs": [
    {
     "output_type": "stream",
     "name": "stdout",
     "text": [
      "OBJECTNUMMER                              1\n",
      "Soortnaam_NL              Amerikaanse linde\n",
      "Boomnummer                           589672\n",
      "Soortnaam_WTS               Tilia americana\n",
      "Boomtype         Boom niet vrij uitgroeiend\n",
      "Boomhoogte                     12 tot 18 m.\n",
      "Plantjaar                              1948\n",
      "Eigenaar                 Gemeente Amsterdam\n",
      "Beheerder                    Stadsdeel Zuid\n",
      "Categorie                             Tilia\n",
      "SOORT_KORT                            Tilia\n",
      "SDVIEW                                    K\n",
      "RADIUS                                    5\n",
      "WKT_LNG_LAT        POINT(4.90467 52.339815)\n",
      "WKT_LAT_LNG        POINT(52.339815 4.90467)\n",
      "LNG                                 4.90467\n",
      "LAT                               52.339815\n",
      "Unnamed: 17                             NaN\n",
      "Name: 0, dtype: object\n"
     ]
    },
    {
     "output_type": "display_data",
     "data": {
      "image/png": "[encoded data removed]",
      "text/plain": [
       "<Figure size 432x288 with 1 Axes>"
      ]
     },
     "metadata": {
      "needs_background": "light"
     }
    }
   ],
   "metadata": {}
  },
  {
   "cell_type": "code",
   "execution_count": 10,
   "source": [
    "# https://github.com/djvanderlaan/rijksdriehoek/blob/master/Python/rijksdriehoek.py\n",
    "\n",
    "X0      = 155000\n",
    "Y0      = 463000\n",
    "PHI0    = 52.15517440\n",
    "LAM0    = 5.38720621\n",
    "\n",
    "@numba.njit\n",
    "def rd_to_wgs(x, y):\n",
    "    \"\"\"\n",
    "    Convert rijksdriehoekcoordinates into WGS84 cooridnates. Input parameters: x (float), y (float). \n",
    "    \"\"\"\n",
    "\n",
    "    if isinstance(x, (list, tuple)):\n",
    "        x, y = x\n",
    "\n",
    "    pqk = [(0, 1, 3235.65389),\n",
    "        (2, 0, -32.58297),\n",
    "        (0, 2, -0.24750),\n",
    "        (2, 1, -0.84978),\n",
    "        (0, 3, -0.06550),\n",
    "        (2, 2, -0.01709),\n",
    "        (1, 0, -0.00738),\n",
    "        (4, 0, 0.00530),\n",
    "        (2, 3, -0.00039),\n",
    "        (4, 1, 0.00033),\n",
    "        (1, 1, -0.00012)]\n",
    "\n",
    "    pql = [(1, 0, 5260.52916), \n",
    "        (1, 1, 105.94684), \n",
    "        (1, 2, 2.45656), \n",
    "        (3, 0, -0.81885), \n",
    "        (1, 3, 0.05594), \n",
    "        (3, 1, -0.05607), \n",
    "        (0, 1, 0.01199), \n",
    "        (3, 2, -0.00256), \n",
    "        (1, 4, 0.00128), \n",
    "        (0, 2, 0.00022), \n",
    "        (2, 0, -0.00022), \n",
    "        (5, 0, 0.00026)]\n",
    "\n",
    "    dx = 1E-5 * ( x - X0 )\n",
    "    dy = 1E-5 * ( y - Y0 )\n",
    "    \n",
    "    phi = PHI0\n",
    "    lam = LAM0\n",
    "\n",
    "    for p, q, k in pqk:\n",
    "        phi += k * dx**p * dy**q / 3600\n",
    "\n",
    "    for p, q, l in pql:\n",
    "        lam += l * dx**p * dy**q / 3600\n",
    "\n",
    "    return phi,lam\n",
    "\n",
    "@numba.njit\n",
    "def wgs_to_rd(phi, lam):\n",
    "    \"\"\"\n",
    "    Convert WGS84 cooridnates into rijksdriehoekcoordinates. Input parameters: phi (float), lambda (float). \n",
    "    \"\"\"\n",
    "\n",
    "    pqr = [(0, 1, 190094.945),\n",
    "           (1, 1, -11832.228),\n",
    "           (2, 1, -114.221),\n",
    "           (0, 3, -32.391),\n",
    "           (1, 0, -0.705),\n",
    "           (3, 1, -2.34),\n",
    "           (1, 3, -0.608),\n",
    "           (0, 2, -0.008),\n",
    "           (2, 3, 0.148)]\n",
    "    \n",
    "    pqs = [(1, 0, 309056.544),\n",
    "           (0, 2, 3638.893),\n",
    "           (2, 0, 73.077),\n",
    "           (1, 2, -157.984),\n",
    "           (3, 0, 59.788),\n",
    "           (0, 1, 0.433),\n",
    "           (2, 2, -6.439),\n",
    "           (1, 1, -0.032),\n",
    "           (0, 4, 0.092),\n",
    "           (1, 4, -0.054)]\n",
    "\n",
    "    dphi = 0.36 * ( phi - PHI0 )\n",
    "    dlam = 0.36 * ( lam - LAM0 )\n",
    "\n",
    "    X = X0\n",
    "    Y = Y0\n",
    "\n",
    "    for p, q, r in pqr:\n",
    "        X += r * dphi**p * dlam**q \n",
    "\n",
    "    for p, q, s in pqs:\n",
    "        Y += s * dphi**p * dlam**q\n",
    "\n",
    "    return X,Y"
   ],
   "outputs": [],
   "metadata": {}
  },
  {
   "cell_type": "markdown",
   "source": [
    "# After mapping Amsterdam MAP on AHN3:\n",
    "\n",
    "1. Cut up the relevant chunk, only want to use where we classified\n",
    "\n",
    "1.2 Easiest would be to use a square\n",
    "\n",
    "2. Rewrite LAZ file and use classification keyword to classify either as 1 = tree, 0 = non-tree\n",
    "\n",
    "Note: trees file contains heights, so use this to classify the points in that pointcloud\n",
    "\n",
    "Note: Adress difference between Amsterdam and rest of Netherlands (might make a difference)\n",
    "\n",
    "3. Feed these new laz files into PointCNN to train it."
   ],
   "metadata": {}
  },
  {
   "cell_type": "markdown",
   "source": [],
   "metadata": {}
  },
  {
   "cell_type": "code",
   "execution_count": 11,
   "source": [
    "N_trees = table.shape[0]"
   ],
   "outputs": [],
   "metadata": {}
  },
  {
   "cell_type": "code",
   "execution_count": 12,
   "source": [
    "N_trees"
   ],
   "outputs": [
    {
     "output_type": "execute_result",
     "data": {
      "text/plain": [
       "259431"
      ]
     },
     "metadata": {},
     "execution_count": 12
    }
   ],
   "metadata": {}
  },
  {
   "cell_type": "code",
   "execution_count": 64,
   "source": [
    "def tree_df_to_xyz(table):\n",
    "    X_Y_R_array = np.zeros((N_trees, 5), dtype = np.float32)\n",
    "    i = 0\n",
    "    for index, tree in table.iterrows():\n",
    "        PHI = tree['LAT']\n",
    "        LAM = tree['LNG']\n",
    "        X_Y_R_array[index, 0:2] = wgs_to_rd(PHI, LAM)\n",
    "        X_Y_R_array[index, 2] = tree['RADIUS']\n",
    "\n",
    "        height_string = tree['Boomhoogte']\n",
    "\n",
    "        nums = re.findall(r'\\d+', height_string)\n",
    "        # Supposed to find 2 numbers\n",
    "        if len(nums) == 2:\n",
    "            X_Y_R_array[index, 3] = nums[0]\n",
    "            X_Y_R_array[index, 4] = nums[1]\n",
    "        elif len(nums) == 1:\n",
    "            X_Y_R_array[index, 3] = 0\n",
    "            X_Y_R_array[index, 4] = nums[0]\n",
    "        else:\n",
    "            #print(height_string)\n",
    "            i+= 1\n",
    "            \n",
    "    print(f\"lost {i} trees due to unknown height\")\n",
    "    print(f\"lost {i/table.shape[0]*100:.2f} % trees due to unknown height\")\n",
    "    return X_Y_R_array"
   ],
   "outputs": [],
   "metadata": {}
  },
  {
   "cell_type": "code",
   "execution_count": 65,
   "source": [
    "X_Y_R_array = tree_df_to_xyz(table)"
   ],
   "outputs": [
    {
     "output_type": "stream",
     "name": "stdout",
     "text": [
      "lost 3930 trees due to unknown height\n",
      "lost 1.51 % trees due to unknown height\n"
     ]
    }
   ],
   "metadata": {}
  },
  {
   "cell_type": "code",
   "execution_count": 15,
   "source": [
    "int(X_Y_R_array[0, 0])"
   ],
   "outputs": [
    {
     "output_type": "execute_result",
     "data": {
      "text/plain": [
       "122114"
      ]
     },
     "metadata": {},
     "execution_count": 15
    }
   ],
   "metadata": {}
  },
  {
   "cell_type": "code",
   "execution_count": 16,
   "source": [
    "@numba.njit\n",
    "def check_if_tree(X, Y):\n",
    "    # TODO Check if R is given in meters\n",
    "    for i, tree in enumerate(X_Y_R_array):\n",
    "        X_T, Y_T, R_T = X_Y_R_array[i]\n",
    "        # Pythagorean distance\n",
    "        if np.power(X_T - X, 2) + np.power(Y_T - Y, 2) < R_T**2:\n",
    "            return True\n",
    "    return False\n"
   ],
   "outputs": [],
   "metadata": {}
  },
  {
   "cell_type": "code",
   "execution_count": 17,
   "source": [
    "check_if_tree(1, 2)"
   ],
   "outputs": [
    {
     "output_type": "execute_result",
     "data": {
      "text/plain": [
       "False"
      ]
     },
     "metadata": {},
     "execution_count": 17
    }
   ],
   "metadata": {}
  },
  {
   "cell_type": "code",
   "execution_count": 18,
   "source": [
    "tree = table.iloc[0, :]\n",
    "X_tree, Y_tree = wgs_to_rd(tree['LAT'], tree['LNG'])\n",
    "check_if_tree(X_tree, Y_tree)"
   ],
   "outputs": [
    {
     "output_type": "execute_result",
     "data": {
      "text/plain": [
       "True"
      ]
     },
     "metadata": {},
     "execution_count": 18
    }
   ],
   "metadata": {}
  },
  {
   "cell_type": "markdown",
   "source": [
    "## Simple test seems to work, need to visualize to see what points are actually taken\n",
    "\n",
    "### Could reduce compute by ordering the X_Y_R array and create a trigger so it only loops over part of array"
   ],
   "metadata": {}
  },
  {
   "cell_type": "markdown",
   "source": [],
   "metadata": {}
  },
  {
   "cell_type": "markdown",
   "source": [],
   "metadata": {}
  },
  {
   "cell_type": "code",
   "execution_count": 19,
   "source": [
    "%%time\n",
    "\n",
    "check_if_tree(X_tree, Y_tree)"
   ],
   "outputs": [
    {
     "output_type": "stream",
     "name": "stdout",
     "text": [
      "CPU times: user 14 µs, sys: 1 µs, total: 15 µs\n",
      "Wall time: 21.7 µs\n"
     ]
    },
    {
     "output_type": "execute_result",
     "data": {
      "text/plain": [
       "True"
      ]
     },
     "metadata": {},
     "execution_count": 19
    }
   ],
   "metadata": {}
  },
  {
   "cell_type": "code",
   "execution_count": 24,
   "source": [
    "#@numba.njit\n",
    "def boundary_search(item_list,item):\n",
    "\tfirst = 0\n",
    "\tlast = N_trees\n",
    "\twhile(first<last):\n",
    "\t\tmid = (first + last)//2\n",
    "\t\tif item < item_list[mid]:\n",
    "\t\t\tlast = mid - 1\n",
    "\t\telse:\n",
    "\t\t\tfirst = mid + 1\t\n",
    "\treturn first"
   ],
   "outputs": [],
   "metadata": {}
  },
  {
   "cell_type": "code",
   "execution_count": 32,
   "source": [
    "# Sort the array ascending on the x-coord\n",
    "X_index = 0\n",
    "Y_index = 1\n",
    "\n",
    "X_Y_R_array = X_Y_R_array[np.argsort(X_Y_R_array[:, X_index])]\n",
    "\n",
    "print(np.max(X_Y_R_array[:, 0]))\n",
    "print(np.min(X_Y_R_array[:, 0]))\n",
    "\n",
    "print(np.max(X_Y_R_array[:, 1]))\n",
    "print(np.min(X_Y_R_array[:, 1]))\n",
    "\n",
    "#@numba.njit\n",
    "def check_if_tree_advanced(X, Y):\n",
    "    # TODO Check if R is given in meters\n",
    "    begin = X - 10\n",
    "    end = X + 10\n",
    "\n",
    "    start_index = boundary_search(X_Y_R_array[:, 0], begin)\n",
    "    end_index = boundary_search(X_Y_R_array[:, 0], end)\n",
    "    print(start_index, end_index)\n",
    "    for i, tree in enumerate(X_Y_R_array[start_index:end_index]):\n",
    "        X_T, Y_T, R_T = X_Y_R_array[i]\n",
    "        # Pythagorean distance\n",
    "        if np.power(X_T - X, 2) + np.power(Y_T - Y, 2) < R_T**2:\n",
    "            return True\n",
    "    return False\n"
   ],
   "outputs": [
    {
     "output_type": "stream",
     "name": "stdout",
     "text": [
      "132249.48\n",
      "112199.9\n",
      "493123.66\n",
      "476938.25\n"
     ]
    }
   ],
   "metadata": {}
  },
  {
   "cell_type": "code",
   "execution_count": 26,
   "source": [
    "import laspy\n",
    "import numpy as np"
   ],
   "outputs": [],
   "metadata": {}
  },
  {
   "cell_type": "code",
   "execution_count": 33,
   "source": [
    "fname = \"out.laz\"\n",
    "\n",
    "vectorized_tree_check = np.vectorize(check_if_tree_advanced)\n",
    "N_points = 100_000\n",
    "trees = np.zeros((N_points), dtype=np.bool)\n",
    "i = 0\n",
    "with laspy.open(fname) as file:\n",
    "    for points in file.chunk_iterator(N_points):\n",
    "        #trees = vectorized_tree_check(points.x, points.y)\n",
    "        #print(np.max(points.x))\n",
    "        #print(np.min(points.x))\n",
    "        print(np.max(points.y))\n",
    "        print(np.min(points.y))\n",
    "        print('iter done')\n",
    "        #plt.scatter(points.x.copy()[trees], points.y.copy()[trees])\n",
    "        print('plot done')\n",
    "        i+=1\n",
    "        if i > 10:\n",
    "            break\n",
    "plt.show()"
   ],
   "outputs": [
    {
     "output_type": "stream",
     "name": "stdout",
     "text": [
      "470000.0\n",
      "469030.26\n",
      "iter done\n",
      "plot done\n",
      "469911.16000000003\n",
      "469158.10000000003\n",
      "iter done\n",
      "plot done\n",
      "469999.97000000003\n",
      "469156.4\n",
      "iter done\n",
      "plot done\n",
      "470066.19\n",
      "469283.12\n",
      "iter done\n",
      "plot done\n",
      "471021.60000000003\n",
      "470000.0\n",
      "iter done\n",
      "plot done\n",
      "471250.0\n",
      "470000.0\n",
      "iter done\n",
      "plot done\n",
      "471234.60000000003\n",
      "470368.4\n",
      "iter done\n",
      "plot done\n",
      "470551.62\n",
      "470120.02\n",
      "iter done\n",
      "plot done\n",
      "470819.38\n",
      "470000.01\n",
      "iter done\n",
      "plot done\n",
      "470619.57\n",
      "470178.97000000003\n",
      "iter done\n",
      "plot done\n",
      "470676.5\n",
      "470368.27\n",
      "iter done\n",
      "plot done\n"
     ]
    }
   ],
   "metadata": {}
  },
  {
   "cell_type": "code",
   "execution_count": null,
   "source": [],
   "outputs": [],
   "metadata": {}
  }
 ],
 "metadata": {
  "orig_nbformat": 4,
  "language_info": {
   "name": "python",
   "version": "3.9.7",
   "mimetype": "text/x-python",
   "codemirror_mode": {
    "name": "ipython",
    "version": 3
   },
   "pygments_lexer": "ipython3",
   "nbconvert_exporter": "python",
   "file_extension": ".py"
  },
  "kernelspec": {
   "name": "python3",
   "display_name": "Python 3.9.7 64-bit ('gisse': conda)"
  },
  "interpreter": {
   "hash": "26edf933b165201e0ba91be49a0ddd0ff16fecfe59c042dcb34fd4769ae822a5"
  }
 },
 "nbformat": 4,
 "nbformat_minor": 2
}